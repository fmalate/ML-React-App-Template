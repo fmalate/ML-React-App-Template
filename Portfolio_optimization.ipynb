{
  "nbformat": 4,
  "nbformat_minor": 0,
  "metadata": {
    "colab": {
      "name": "Portfolio optimization.ipynb",
      "provenance": [],
      "toc_visible": true,
      "authorship_tag": "ABX9TyOtI80iiFrzjDvdmL23RDRT",
      "include_colab_link": true
    },
    "kernelspec": {
      "name": "python3",
      "display_name": "Python 3"
    }
  },
  "cells": [
    {
      "cell_type": "markdown",
      "metadata": {
        "id": "view-in-github",
        "colab_type": "text"
      },
      "source": [
        "<a href=\"https://colab.research.google.com/github/fmalate/ML-React-App-Template/blob/master/Portfolio_optimization.ipynb\" target=\"_parent\"><img src=\"https://colab.research.google.com/assets/colab-badge.svg\" alt=\"Open In Colab\"/></a>"
      ]
    },
    {
      "cell_type": "code",
      "metadata": {
        "id": "hLa_hgdWspkc",
        "colab_type": "code",
        "colab": {}
      },
      "source": [
        "from pandas_datareader import data\n",
        "import pandas as pd \n",
        "import numpy as np\n",
        "import matplotlib.pyplot as plt\n",
        "%matplotlib inline\n",
        "import seaborn as sns \n",
        "plt.style.use('ggplot')"
      ],
      "execution_count": 135,
      "outputs": []
    },
    {
      "cell_type": "code",
      "metadata": {
        "id": "ZcezKq38tVMr",
        "colab_type": "code",
        "colab": {}
      },
      "source": [
        "from pandas.util.testing import assert_frame_equal"
      ],
      "execution_count": 136,
      "outputs": []
    },
    {
      "cell_type": "code",
      "metadata": {
        "id": "Yxg4ka8vtlj8",
        "colab_type": "code",
        "colab": {}
      },
      "source": [
        "import datetime\n",
        "from datetime import datetime as dt\n",
        "from dateutil.relativedelta import relativedelta"
      ],
      "execution_count": 137,
      "outputs": []
    },
    {
      "cell_type": "code",
      "metadata": {
        "id": "m1PLOq3rtYad",
        "colab_type": "code",
        "colab": {}
      },
      "source": [
        "start = dt.today() + relativedelta(years=-5)\n",
        "end = dt.today()\n",
        "tickers = ['HD', 'SPY', 'INTC', 'FB', 'AMD', 'TSLA', 'BABA', 'FB', 'T']\n",
        "etf = ['VIG', 'NOBL', 'SDY', 'SCHD', 'IDV', 'DGRO', 'DON', 'FVD', 'SPHD']\n",
        "df = data.DataReader(tickers, 'yahoo', start, end)['Adj Close']\n",
        "etf_data = data.DataReader(etf, 'yahoo', start, end)['Adj Close']"
      ],
      "execution_count": 138,
      "outputs": []
    },
    {
      "cell_type": "code",
      "metadata": {
        "id": "ctzzXP0gvYg_",
        "colab_type": "code",
        "colab": {
          "base_uri": "https://localhost:8080/",
          "height": 450
        },
        "outputId": "0277081f-e7c7-4bac-a375-7127b527718c"
      },
      "source": [
        "df"
      ],
      "execution_count": 139,
      "outputs": [
        {
          "output_type": "execute_result",
          "data": {
            "text/html": [
              "<div>\n",
              "<style scoped>\n",
              "    .dataframe tbody tr th:only-of-type {\n",
              "        vertical-align: middle;\n",
              "    }\n",
              "\n",
              "    .dataframe tbody tr th {\n",
              "        vertical-align: top;\n",
              "    }\n",
              "\n",
              "    .dataframe thead th {\n",
              "        text-align: right;\n",
              "    }\n",
              "</style>\n",
              "<table border=\"1\" class=\"dataframe\">\n",
              "  <thead>\n",
              "    <tr style=\"text-align: right;\">\n",
              "      <th>Symbols</th>\n",
              "      <th>HD</th>\n",
              "      <th>SPY</th>\n",
              "      <th>INTC</th>\n",
              "      <th>FB</th>\n",
              "      <th>AMD</th>\n",
              "      <th>TSLA</th>\n",
              "      <th>BABA</th>\n",
              "      <th>T</th>\n",
              "    </tr>\n",
              "    <tr>\n",
              "      <th>Date</th>\n",
              "      <th></th>\n",
              "      <th></th>\n",
              "      <th></th>\n",
              "      <th></th>\n",
              "      <th></th>\n",
              "      <th></th>\n",
              "      <th></th>\n",
              "      <th></th>\n",
              "    </tr>\n",
              "  </thead>\n",
              "  <tbody>\n",
              "    <tr>\n",
              "      <th>2015-08-07</th>\n",
              "      <td>104.209251</td>\n",
              "      <td>188.264404</td>\n",
              "      <td>25.424637</td>\n",
              "      <td>94.300003</td>\n",
              "      <td>2.090000</td>\n",
              "      <td>242.509995</td>\n",
              "      <td>78.820000</td>\n",
              "      <td>25.880342</td>\n",
              "    </tr>\n",
              "    <tr>\n",
              "      <th>2015-08-10</th>\n",
              "      <td>104.806358</td>\n",
              "      <td>190.636444</td>\n",
              "      <td>26.093708</td>\n",
              "      <td>94.150002</td>\n",
              "      <td>1.930000</td>\n",
              "      <td>241.139999</td>\n",
              "      <td>80.470001</td>\n",
              "      <td>26.311558</td>\n",
              "    </tr>\n",
              "    <tr>\n",
              "      <th>2015-08-11</th>\n",
              "      <td>104.886589</td>\n",
              "      <td>188.916321</td>\n",
              "      <td>25.503868</td>\n",
              "      <td>93.620003</td>\n",
              "      <td>1.900000</td>\n",
              "      <td>237.369995</td>\n",
              "      <td>77.339996</td>\n",
              "      <td>26.213213</td>\n",
              "    </tr>\n",
              "    <tr>\n",
              "      <th>2015-08-12</th>\n",
              "      <td>104.886589</td>\n",
              "      <td>189.142624</td>\n",
              "      <td>25.935240</td>\n",
              "      <td>94.190002</td>\n",
              "      <td>1.900000</td>\n",
              "      <td>238.169998</td>\n",
              "      <td>73.379997</td>\n",
              "      <td>25.736607</td>\n",
              "    </tr>\n",
              "    <tr>\n",
              "      <th>2015-08-13</th>\n",
              "      <td>106.071892</td>\n",
              "      <td>188.907227</td>\n",
              "      <td>25.415836</td>\n",
              "      <td>93.430000</td>\n",
              "      <td>1.790000</td>\n",
              "      <td>242.509995</td>\n",
              "      <td>75.110001</td>\n",
              "      <td>25.577742</td>\n",
              "    </tr>\n",
              "    <tr>\n",
              "      <th>...</th>\n",
              "      <td>...</td>\n",
              "      <td>...</td>\n",
              "      <td>...</td>\n",
              "      <td>...</td>\n",
              "      <td>...</td>\n",
              "      <td>...</td>\n",
              "      <td>...</td>\n",
              "      <td>...</td>\n",
              "    </tr>\n",
              "    <tr>\n",
              "      <th>2020-07-31</th>\n",
              "      <td>265.489990</td>\n",
              "      <td>326.519989</td>\n",
              "      <td>47.730000</td>\n",
              "      <td>253.669998</td>\n",
              "      <td>77.430000</td>\n",
              "      <td>1430.760010</td>\n",
              "      <td>251.020004</td>\n",
              "      <td>29.580000</td>\n",
              "    </tr>\n",
              "    <tr>\n",
              "      <th>2020-08-03</th>\n",
              "      <td>266.179993</td>\n",
              "      <td>328.790009</td>\n",
              "      <td>48.299999</td>\n",
              "      <td>251.960007</td>\n",
              "      <td>77.669998</td>\n",
              "      <td>1485.000000</td>\n",
              "      <td>257.940002</td>\n",
              "      <td>29.620001</td>\n",
              "    </tr>\n",
              "    <tr>\n",
              "      <th>2020-08-04</th>\n",
              "      <td>267.869995</td>\n",
              "      <td>330.059998</td>\n",
              "      <td>49.130001</td>\n",
              "      <td>249.830002</td>\n",
              "      <td>85.040001</td>\n",
              "      <td>1487.000000</td>\n",
              "      <td>262.200012</td>\n",
              "      <td>30.010000</td>\n",
              "    </tr>\n",
              "    <tr>\n",
              "      <th>2020-08-05</th>\n",
              "      <td>267.480011</td>\n",
              "      <td>332.109985</td>\n",
              "      <td>48.919998</td>\n",
              "      <td>249.119995</td>\n",
              "      <td>85.309998</td>\n",
              "      <td>1485.020020</td>\n",
              "      <td>264.910004</td>\n",
              "      <td>29.850000</td>\n",
              "    </tr>\n",
              "    <tr>\n",
              "      <th>2020-08-06</th>\n",
              "      <td>269.369995</td>\n",
              "      <td>334.320007</td>\n",
              "      <td>48.570000</td>\n",
              "      <td>265.279999</td>\n",
              "      <td>86.709999</td>\n",
              "      <td>1489.579956</td>\n",
              "      <td>265.679993</td>\n",
              "      <td>29.840000</td>\n",
              "    </tr>\n",
              "  </tbody>\n",
              "</table>\n",
              "<p>1259 rows × 8 columns</p>\n",
              "</div>"
            ],
            "text/plain": [
              "Symbols             HD         SPY  ...        BABA          T\n",
              "Date                                ...                       \n",
              "2015-08-07  104.209251  188.264404  ...   78.820000  25.880342\n",
              "2015-08-10  104.806358  190.636444  ...   80.470001  26.311558\n",
              "2015-08-11  104.886589  188.916321  ...   77.339996  26.213213\n",
              "2015-08-12  104.886589  189.142624  ...   73.379997  25.736607\n",
              "2015-08-13  106.071892  188.907227  ...   75.110001  25.577742\n",
              "...                ...         ...  ...         ...        ...\n",
              "2020-07-31  265.489990  326.519989  ...  251.020004  29.580000\n",
              "2020-08-03  266.179993  328.790009  ...  257.940002  29.620001\n",
              "2020-08-04  267.869995  330.059998  ...  262.200012  30.010000\n",
              "2020-08-05  267.480011  332.109985  ...  264.910004  29.850000\n",
              "2020-08-06  269.369995  334.320007  ...  265.679993  29.840000\n",
              "\n",
              "[1259 rows x 8 columns]"
            ]
          },
          "metadata": {
            "tags": []
          },
          "execution_count": 139
        }
      ]
    },
    {
      "cell_type": "code",
      "metadata": {
        "id": "PLqe5iUNQZZp",
        "colab_type": "code",
        "colab": {
          "base_uri": "https://localhost:8080/",
          "height": 450
        },
        "outputId": "98c175ad-b042-4e51-87db-7d599b0fe10b"
      },
      "source": [
        "etf_data"
      ],
      "execution_count": 140,
      "outputs": [
        {
          "output_type": "execute_result",
          "data": {
            "text/html": [
              "<div>\n",
              "<style scoped>\n",
              "    .dataframe tbody tr th:only-of-type {\n",
              "        vertical-align: middle;\n",
              "    }\n",
              "\n",
              "    .dataframe tbody tr th {\n",
              "        vertical-align: top;\n",
              "    }\n",
              "\n",
              "    .dataframe thead th {\n",
              "        text-align: right;\n",
              "    }\n",
              "</style>\n",
              "<table border=\"1\" class=\"dataframe\">\n",
              "  <thead>\n",
              "    <tr style=\"text-align: right;\">\n",
              "      <th>Symbols</th>\n",
              "      <th>VIG</th>\n",
              "      <th>NOBL</th>\n",
              "      <th>SDY</th>\n",
              "      <th>SCHD</th>\n",
              "      <th>IDV</th>\n",
              "      <th>DGRO</th>\n",
              "      <th>DON</th>\n",
              "      <th>FVD</th>\n",
              "      <th>SPHD</th>\n",
              "    </tr>\n",
              "    <tr>\n",
              "      <th>Date</th>\n",
              "      <th></th>\n",
              "      <th></th>\n",
              "      <th></th>\n",
              "      <th></th>\n",
              "      <th></th>\n",
              "      <th></th>\n",
              "      <th></th>\n",
              "      <th></th>\n",
              "      <th></th>\n",
              "    </tr>\n",
              "  </thead>\n",
              "  <tbody>\n",
              "    <tr>\n",
              "      <th>2015-08-07</th>\n",
              "      <td>71.920448</td>\n",
              "      <td>45.054646</td>\n",
              "      <td>63.205742</td>\n",
              "      <td>32.774876</td>\n",
              "      <td>23.896963</td>\n",
              "      <td>23.166143</td>\n",
              "      <td>24.176130</td>\n",
              "      <td>21.334869</td>\n",
              "      <td>26.721466</td>\n",
              "    </tr>\n",
              "    <tr>\n",
              "      <th>2015-08-10</th>\n",
              "      <td>72.624664</td>\n",
              "      <td>45.611862</td>\n",
              "      <td>63.878223</td>\n",
              "      <td>33.195290</td>\n",
              "      <td>24.200127</td>\n",
              "      <td>23.403925</td>\n",
              "      <td>24.505033</td>\n",
              "      <td>21.521936</td>\n",
              "      <td>26.900810</td>\n",
              "    </tr>\n",
              "    <tr>\n",
              "      <th>2015-08-11</th>\n",
              "      <td>72.046852</td>\n",
              "      <td>45.288311</td>\n",
              "      <td>63.550163</td>\n",
              "      <td>32.972221</td>\n",
              "      <td>23.859066</td>\n",
              "      <td>23.219372</td>\n",
              "      <td>24.365318</td>\n",
              "      <td>21.441769</td>\n",
              "      <td>26.843740</td>\n",
              "    </tr>\n",
              "    <tr>\n",
              "      <th>2015-08-12</th>\n",
              "      <td>72.055870</td>\n",
              "      <td>45.252361</td>\n",
              "      <td>63.624004</td>\n",
              "      <td>33.075188</td>\n",
              "      <td>23.881802</td>\n",
              "      <td>23.281483</td>\n",
              "      <td>24.417707</td>\n",
              "      <td>21.513033</td>\n",
              "      <td>27.023087</td>\n",
              "    </tr>\n",
              "    <tr>\n",
              "      <th>2015-08-13</th>\n",
              "      <td>71.974617</td>\n",
              "      <td>45.324268</td>\n",
              "      <td>63.599396</td>\n",
              "      <td>32.972221</td>\n",
              "      <td>23.768116</td>\n",
              "      <td>23.237123</td>\n",
              "      <td>24.382778</td>\n",
              "      <td>21.459581</td>\n",
              "      <td>26.998631</td>\n",
              "    </tr>\n",
              "    <tr>\n",
              "      <th>...</th>\n",
              "      <td>...</td>\n",
              "      <td>...</td>\n",
              "      <td>...</td>\n",
              "      <td>...</td>\n",
              "      <td>...</td>\n",
              "      <td>...</td>\n",
              "      <td>...</td>\n",
              "      <td>...</td>\n",
              "      <td>...</td>\n",
              "    </tr>\n",
              "    <tr>\n",
              "      <th>2020-07-31</th>\n",
              "      <td>123.010002</td>\n",
              "      <td>70.760002</td>\n",
              "      <td>93.559998</td>\n",
              "      <td>54.490002</td>\n",
              "      <td>25.400000</td>\n",
              "      <td>39.220001</td>\n",
              "      <td>29.410000</td>\n",
              "      <td>31.600000</td>\n",
              "      <td>33.599998</td>\n",
              "    </tr>\n",
              "    <tr>\n",
              "      <th>2020-08-03</th>\n",
              "      <td>123.730003</td>\n",
              "      <td>70.919998</td>\n",
              "      <td>93.839996</td>\n",
              "      <td>54.720001</td>\n",
              "      <td>25.650000</td>\n",
              "      <td>39.439999</td>\n",
              "      <td>29.590000</td>\n",
              "      <td>31.570000</td>\n",
              "      <td>33.570000</td>\n",
              "    </tr>\n",
              "    <tr>\n",
              "      <th>2020-08-04</th>\n",
              "      <td>124.309998</td>\n",
              "      <td>71.110001</td>\n",
              "      <td>94.209999</td>\n",
              "      <td>54.919998</td>\n",
              "      <td>25.900000</td>\n",
              "      <td>39.549999</td>\n",
              "      <td>29.700001</td>\n",
              "      <td>31.700001</td>\n",
              "      <td>33.910000</td>\n",
              "    </tr>\n",
              "    <tr>\n",
              "      <th>2020-08-05</th>\n",
              "      <td>125.150002</td>\n",
              "      <td>71.720001</td>\n",
              "      <td>95.010002</td>\n",
              "      <td>55.520000</td>\n",
              "      <td>26.120001</td>\n",
              "      <td>39.750000</td>\n",
              "      <td>29.959999</td>\n",
              "      <td>31.850000</td>\n",
              "      <td>33.840000</td>\n",
              "    </tr>\n",
              "    <tr>\n",
              "      <th>2020-08-06</th>\n",
              "      <td>125.559998</td>\n",
              "      <td>71.540001</td>\n",
              "      <td>94.889999</td>\n",
              "      <td>55.439999</td>\n",
              "      <td>26.110001</td>\n",
              "      <td>39.830002</td>\n",
              "      <td>29.900000</td>\n",
              "      <td>31.910000</td>\n",
              "      <td>34.009998</td>\n",
              "    </tr>\n",
              "  </tbody>\n",
              "</table>\n",
              "<p>1259 rows × 9 columns</p>\n",
              "</div>"
            ],
            "text/plain": [
              "Symbols            VIG       NOBL        SDY  ...        DON        FVD       SPHD\n",
              "Date                                          ...                                 \n",
              "2015-08-07   71.920448  45.054646  63.205742  ...  24.176130  21.334869  26.721466\n",
              "2015-08-10   72.624664  45.611862  63.878223  ...  24.505033  21.521936  26.900810\n",
              "2015-08-11   72.046852  45.288311  63.550163  ...  24.365318  21.441769  26.843740\n",
              "2015-08-12   72.055870  45.252361  63.624004  ...  24.417707  21.513033  27.023087\n",
              "2015-08-13   71.974617  45.324268  63.599396  ...  24.382778  21.459581  26.998631\n",
              "...                ...        ...        ...  ...        ...        ...        ...\n",
              "2020-07-31  123.010002  70.760002  93.559998  ...  29.410000  31.600000  33.599998\n",
              "2020-08-03  123.730003  70.919998  93.839996  ...  29.590000  31.570000  33.570000\n",
              "2020-08-04  124.309998  71.110001  94.209999  ...  29.700001  31.700001  33.910000\n",
              "2020-08-05  125.150002  71.720001  95.010002  ...  29.959999  31.850000  33.840000\n",
              "2020-08-06  125.559998  71.540001  94.889999  ...  29.900000  31.910000  34.009998\n",
              "\n",
              "[1259 rows x 9 columns]"
            ]
          },
          "metadata": {
            "tags": []
          },
          "execution_count": 140
        }
      ]
    },
    {
      "cell_type": "code",
      "metadata": {
        "id": "BBzZVbq9QjF_",
        "colab_type": "code",
        "colab": {
          "base_uri": "https://localhost:8080/",
          "height": 289
        },
        "outputId": "db482d3a-81df-4073-813e-05d8356555f2"
      },
      "source": [
        "etf_data.plot()"
      ],
      "execution_count": 141,
      "outputs": [
        {
          "output_type": "execute_result",
          "data": {
            "text/plain": [
              "<matplotlib.axes._subplots.AxesSubplot at 0x7f491ecba6a0>"
            ]
          },
          "metadata": {
            "tags": []
          },
          "execution_count": 141
        },
        {
          "output_type": "display_data",
          "data": {
            "image/png": "[encoded data removed]",
            "text/plain": [
              "<Figure size 432x288 with 1 Axes>"
            ]
          },
          "metadata": {
            "tags": []
          }
        }
      ]
    },
    {
      "cell_type": "code",
      "metadata": {
        "id": "rW5et9qtQn96",
        "colab_type": "code",
        "colab": {}
      },
      "source": [
        ""
      ],
      "execution_count": 141,
      "outputs": []
    },
    {
      "cell_type": "code",
      "metadata": {
        "id": "rl8Idbbzvlea",
        "colab_type": "code",
        "colab": {
          "base_uri": "https://localhost:8080/",
          "height": 275
        },
        "outputId": "2c0e07f6-4d3c-438c-8511-f06297a39647"
      },
      "source": [
        "pip install pyportfolioopt"
      ],
      "execution_count": 142,
      "outputs": [
        {
          "output_type": "stream",
          "text": [
            "Requirement already satisfied: pyportfolioopt in /usr/local/lib/python3.6/dist-packages (1.2.4)\n",
            "Requirement already satisfied: scipy<2.0,>=1.3 in /usr/local/lib/python3.6/dist-packages (from pyportfolioopt) (1.4.1)\n",
            "Requirement already satisfied: numpy<2.0,>=1.12 in /usr/local/lib/python3.6/dist-packages (from pyportfolioopt) (1.18.5)\n",
            "Requirement already satisfied: pandas>=0.19 in /usr/local/lib/python3.6/dist-packages (from pyportfolioopt) (1.0.5)\n",
            "Requirement already satisfied: cvxpy<1.1,>=1.0 in /usr/local/lib/python3.6/dist-packages (from pyportfolioopt) (1.0.31)\n",
            "Requirement already satisfied: pytz>=2017.2 in /usr/local/lib/python3.6/dist-packages (from pandas>=0.19->pyportfolioopt) (2018.9)\n",
            "Requirement already satisfied: python-dateutil>=2.6.1 in /usr/local/lib/python3.6/dist-packages (from pandas>=0.19->pyportfolioopt) (2.8.1)\n",
            "Requirement already satisfied: scs>=1.1.3 in /usr/local/lib/python3.6/dist-packages (from cvxpy<1.1,>=1.0->pyportfolioopt) (2.1.2)\n",
            "Requirement already satisfied: osqp>=0.4.1 in /usr/local/lib/python3.6/dist-packages (from cvxpy<1.1,>=1.0->pyportfolioopt) (0.6.1)\n",
            "Requirement already satisfied: ecos>=2 in /usr/local/lib/python3.6/dist-packages (from cvxpy<1.1,>=1.0->pyportfolioopt) (2.0.7.post1)\n",
            "Requirement already satisfied: multiprocess in /usr/local/lib/python3.6/dist-packages (from cvxpy<1.1,>=1.0->pyportfolioopt) (0.70.10)\n",
            "Requirement already satisfied: six>=1.5 in /usr/local/lib/python3.6/dist-packages (from python-dateutil>=2.6.1->pandas>=0.19->pyportfolioopt) (1.15.0)\n",
            "Requirement already satisfied: future in /usr/local/lib/python3.6/dist-packages (from osqp>=0.4.1->cvxpy<1.1,>=1.0->pyportfolioopt) (0.16.0)\n",
            "Requirement already satisfied: dill>=0.3.2 in /usr/local/lib/python3.6/dist-packages (from multiprocess->cvxpy<1.1,>=1.0->pyportfolioopt) (0.3.2)\n"
          ],
          "name": "stdout"
        }
      ]
    },
    {
      "cell_type": "code",
      "metadata": {
        "id": "rkLBv1jyv9gS",
        "colab_type": "code",
        "colab": {}
      },
      "source": [
        "#pypfopt is a library that implements portfolio optimization\n",
        "from pypfopt import EfficientFrontier\n",
        "from pypfopt import risk_models\n",
        "from pypfopt import expected_returns"
      ],
      "execution_count": 143,
      "outputs": []
    },
    {
      "cell_type": "code",
      "metadata": {
        "id": "HwSx1r8cwadm",
        "colab_type": "code",
        "colab": {}
      },
      "source": [
        "#Calculate expected returns and sample covariance\n",
        "mu = expected_returns.mean_historical_return(df)\n",
        "S = risk_models.sample_cov(df)"
      ],
      "execution_count": 144,
      "outputs": []
    },
    {
      "cell_type": "code",
      "metadata": {
        "id": "1IKxXaBaxb54",
        "colab_type": "code",
        "colab": {
          "base_uri": "https://localhost:8080/",
          "height": 122
        },
        "outputId": "0c7c877b-588a-4128-913a-4e3aed113189"
      },
      "source": [
        "#Optimize for maximal Sharpe ratio\n",
        "ef = EfficientFrontier(mu, S)\n",
        "raw_weights = ef.max_sharpe()\n",
        "cleaned_weights = ef.clean_weights()\n",
        "ef.save_weights_to_file('weights.csv') #saves csv file\n",
        "print(cleaned_weights)\n",
        "ef.portfolio_performance(verbose=True)"
      ],
      "execution_count": 145,
      "outputs": [
        {
          "output_type": "stream",
          "text": [
            "OrderedDict([('HD', 0.10949), ('SPY', 0.0), ('INTC', 0.0), ('FB', 0.07947), ('AMD', 0.45154), ('TSLA', 0.20709), ('BABA', 0.15241), ('T', 0.0)])\n",
            "Expected annual return: 62.8%\n",
            "Annual volatility: 39.3%\n",
            "Sharpe Ratio: 1.55\n"
          ],
          "name": "stdout"
        },
        {
          "output_type": "execute_result",
          "data": {
            "text/plain": [
              "(0.6279291800110531, 0.39328992914121474, 1.5457532343595046)"
            ]
          },
          "metadata": {
            "tags": []
          },
          "execution_count": 145
        }
      ]
    },
    {
      "cell_type": "code",
      "metadata": {
        "id": "MXMEOel8yx9s",
        "colab_type": "code",
        "colab": {}
      },
      "source": [
        "from pypfopt.discrete_allocation import DiscreteAllocation, get_latest_prices"
      ],
      "execution_count": 146,
      "outputs": []
    },
    {
      "cell_type": "code",
      "metadata": {
        "id": "ayGYsdUN0LnZ",
        "colab_type": "code",
        "colab": {}
      },
      "source": [
        "weights = raw_weights"
      ],
      "execution_count": 147,
      "outputs": []
    },
    {
      "cell_type": "code",
      "metadata": {
        "id": "_D7M9JTYy7ND",
        "colab_type": "code",
        "colab": {
          "base_uri": "https://localhost:8080/",
          "height": 51
        },
        "outputId": "4489f1e7-d3fd-4654-f18d-6103478f8b65"
      },
      "source": [
        "latest_prices = get_latest_prices(df)\n",
        "\n",
        "\n",
        "da = DiscreteAllocation(weights, latest_prices, total_portfolio_value = 10000)\n",
        "allocation, leftover = da.lp_portfolio()\n",
        "print('Discrete allocation: ', allocation)\n",
        "print('Funds remaining: ${:.2f} '.format(leftover))"
      ],
      "execution_count": 148,
      "outputs": [
        {
          "output_type": "stream",
          "text": [
            "Discrete allocation:  {'HD': 5.0, 'FB': 3.0, 'AMD': 53.0, 'TSLA': 1.0, 'BABA': 6.0}\n",
            "Funds remaining: $178.02 \n"
          ],
          "name": "stdout"
        }
      ]
    },
    {
      "cell_type": "code",
      "metadata": {
        "id": "BPV0snov9AOD",
        "colab_type": "code",
        "colab": {
          "base_uri": "https://localhost:8080/",
          "height": 272
        },
        "outputId": "d14d51e9-6ba4-4f4b-bbf1-88484816238d"
      },
      "source": [
        "ax = df.plot()\n",
        "\n"
      ],
      "execution_count": 149,
      "outputs": [
        {
          "output_type": "display_data",
          "data": {
            "image/png": "[encoded data removed]",
            "text/plain": [
              "<Figure size 432x288 with 1 Axes>"
            ]
          },
          "metadata": {
            "tags": []
          }
        }
      ]
    },
    {
      "cell_type": "code",
      "metadata": {
        "id": "Es18V7GGLsa1",
        "colab_type": "code",
        "colab": {
          "base_uri": "https://localhost:8080/",
          "height": 204
        },
        "outputId": "562e76a1-26c3-4865-8c88-928b62ceb618"
      },
      "source": [
        "#Calculate expected returns and sample covariance\n",
        "mu1 = expected_returns.mean_historical_return(etf_data)\n",
        "S1 = risk_models.sample_cov(etf_data)\n",
        "mu1"
      ],
      "execution_count": 150,
      "outputs": [
        {
          "output_type": "execute_result",
          "data": {
            "text/plain": [
              "Symbols\n",
              "VIG     0.127760\n",
              "NOBL    0.109957\n",
              "SDY     0.100135\n",
              "SCHD    0.122543\n",
              "IDV     0.039532\n",
              "DGRO    0.126985\n",
              "DON     0.067231\n",
              "FVD     0.096653\n",
              "SPHD    0.068595\n",
              "dtype: float64"
            ]
          },
          "metadata": {
            "tags": []
          },
          "execution_count": 150
        }
      ]
    },
    {
      "cell_type": "code",
      "metadata": {
        "id": "Ydi3NOlSR96q",
        "colab_type": "code",
        "colab": {
          "base_uri": "https://localhost:8080/",
          "height": 359
        },
        "outputId": "476a89a0-1617-4a6d-fe58-f9ef7ad503ba"
      },
      "source": [
        "S1"
      ],
      "execution_count": 151,
      "outputs": [
        {
          "output_type": "execute_result",
          "data": {
            "text/html": [
              "<div>\n",
              "<style scoped>\n",
              "    .dataframe tbody tr th:only-of-type {\n",
              "        vertical-align: middle;\n",
              "    }\n",
              "\n",
              "    .dataframe tbody tr th {\n",
              "        vertical-align: top;\n",
              "    }\n",
              "\n",
              "    .dataframe thead th {\n",
              "        text-align: right;\n",
              "    }\n",
              "</style>\n",
              "<table border=\"1\" class=\"dataframe\">\n",
              "  <thead>\n",
              "    <tr style=\"text-align: right;\">\n",
              "      <th>Symbols</th>\n",
              "      <th>VIG</th>\n",
              "      <th>NOBL</th>\n",
              "      <th>SDY</th>\n",
              "      <th>SCHD</th>\n",
              "      <th>IDV</th>\n",
              "      <th>DGRO</th>\n",
              "      <th>DON</th>\n",
              "      <th>FVD</th>\n",
              "      <th>SPHD</th>\n",
              "    </tr>\n",
              "    <tr>\n",
              "      <th>Symbols</th>\n",
              "      <th></th>\n",
              "      <th></th>\n",
              "      <th></th>\n",
              "      <th></th>\n",
              "      <th></th>\n",
              "      <th></th>\n",
              "      <th></th>\n",
              "      <th></th>\n",
              "      <th></th>\n",
              "    </tr>\n",
              "  </thead>\n",
              "  <tbody>\n",
              "    <tr>\n",
              "      <th>VIG</th>\n",
              "      <td>0.032101</td>\n",
              "      <td>0.032423</td>\n",
              "      <td>0.032876</td>\n",
              "      <td>0.032115</td>\n",
              "      <td>0.030940</td>\n",
              "      <td>0.033621</td>\n",
              "      <td>0.035945</td>\n",
              "      <td>0.030423</td>\n",
              "      <td>0.032222</td>\n",
              "    </tr>\n",
              "    <tr>\n",
              "      <th>NOBL</th>\n",
              "      <td>0.032423</td>\n",
              "      <td>0.034504</td>\n",
              "      <td>0.035214</td>\n",
              "      <td>0.033329</td>\n",
              "      <td>0.032527</td>\n",
              "      <td>0.034730</td>\n",
              "      <td>0.038560</td>\n",
              "      <td>0.032179</td>\n",
              "      <td>0.034934</td>\n",
              "    </tr>\n",
              "    <tr>\n",
              "      <th>SDY</th>\n",
              "      <td>0.032876</td>\n",
              "      <td>0.035214</td>\n",
              "      <td>0.037299</td>\n",
              "      <td>0.034193</td>\n",
              "      <td>0.033857</td>\n",
              "      <td>0.035724</td>\n",
              "      <td>0.041123</td>\n",
              "      <td>0.033846</td>\n",
              "      <td>0.037213</td>\n",
              "    </tr>\n",
              "    <tr>\n",
              "      <th>SCHD</th>\n",
              "      <td>0.032115</td>\n",
              "      <td>0.033329</td>\n",
              "      <td>0.034193</td>\n",
              "      <td>0.034307</td>\n",
              "      <td>0.032168</td>\n",
              "      <td>0.034626</td>\n",
              "      <td>0.037430</td>\n",
              "      <td>0.031469</td>\n",
              "      <td>0.034254</td>\n",
              "    </tr>\n",
              "    <tr>\n",
              "      <th>IDV</th>\n",
              "      <td>0.030940</td>\n",
              "      <td>0.032527</td>\n",
              "      <td>0.033857</td>\n",
              "      <td>0.032168</td>\n",
              "      <td>0.042833</td>\n",
              "      <td>0.034201</td>\n",
              "      <td>0.039415</td>\n",
              "      <td>0.031730</td>\n",
              "      <td>0.035104</td>\n",
              "    </tr>\n",
              "    <tr>\n",
              "      <th>DGRO</th>\n",
              "      <td>0.033621</td>\n",
              "      <td>0.034730</td>\n",
              "      <td>0.035724</td>\n",
              "      <td>0.034626</td>\n",
              "      <td>0.034201</td>\n",
              "      <td>0.036666</td>\n",
              "      <td>0.039685</td>\n",
              "      <td>0.032896</td>\n",
              "      <td>0.035682</td>\n",
              "    </tr>\n",
              "    <tr>\n",
              "      <th>DON</th>\n",
              "      <td>0.035945</td>\n",
              "      <td>0.038560</td>\n",
              "      <td>0.041123</td>\n",
              "      <td>0.037430</td>\n",
              "      <td>0.039415</td>\n",
              "      <td>0.039685</td>\n",
              "      <td>0.048638</td>\n",
              "      <td>0.037429</td>\n",
              "      <td>0.042070</td>\n",
              "    </tr>\n",
              "    <tr>\n",
              "      <th>FVD</th>\n",
              "      <td>0.030423</td>\n",
              "      <td>0.032179</td>\n",
              "      <td>0.033846</td>\n",
              "      <td>0.031469</td>\n",
              "      <td>0.031730</td>\n",
              "      <td>0.032896</td>\n",
              "      <td>0.037429</td>\n",
              "      <td>0.031831</td>\n",
              "      <td>0.034535</td>\n",
              "    </tr>\n",
              "    <tr>\n",
              "      <th>SPHD</th>\n",
              "      <td>0.032222</td>\n",
              "      <td>0.034934</td>\n",
              "      <td>0.037213</td>\n",
              "      <td>0.034254</td>\n",
              "      <td>0.035104</td>\n",
              "      <td>0.035682</td>\n",
              "      <td>0.042070</td>\n",
              "      <td>0.034535</td>\n",
              "      <td>0.040160</td>\n",
              "    </tr>\n",
              "  </tbody>\n",
              "</table>\n",
              "</div>"
            ],
            "text/plain": [
              "Symbols       VIG      NOBL       SDY  ...       DON       FVD      SPHD\n",
              "Symbols                                ...                              \n",
              "VIG      0.032101  0.032423  0.032876  ...  0.035945  0.030423  0.032222\n",
              "NOBL     0.032423  0.034504  0.035214  ...  0.038560  0.032179  0.034934\n",
              "SDY      0.032876  0.035214  0.037299  ...  0.041123  0.033846  0.037213\n",
              "SCHD     0.032115  0.033329  0.034193  ...  0.037430  0.031469  0.034254\n",
              "IDV      0.030940  0.032527  0.033857  ...  0.039415  0.031730  0.035104\n",
              "DGRO     0.033621  0.034730  0.035724  ...  0.039685  0.032896  0.035682\n",
              "DON      0.035945  0.038560  0.041123  ...  0.048638  0.037429  0.042070\n",
              "FVD      0.030423  0.032179  0.033846  ...  0.037429  0.031831  0.034535\n",
              "SPHD     0.032222  0.034934  0.037213  ...  0.042070  0.034535  0.040160\n",
              "\n",
              "[9 rows x 9 columns]"
            ]
          },
          "metadata": {
            "tags": []
          },
          "execution_count": 151
        }
      ]
    },
    {
      "cell_type": "code",
      "metadata": {
        "id": "V0pmBLb_MGpC",
        "colab_type": "code",
        "colab": {
          "base_uri": "https://localhost:8080/",
          "height": 122
        },
        "outputId": "f48c0d02-28ca-4b72-b611-6abd2409b7b7"
      },
      "source": [
        "#Optimize for maximal Sharpe ratio for ETF\n",
        "ef1 = EfficientFrontier(mu1, S1)\n",
        "raw_weights = ef1.max_sharpe()\n",
        "cleaned_weights = ef1.clean_weights()\n",
        "ef.save_weights_to_file('etf_weights.csv') #saves csv file\n",
        "print(cleaned_weights)\n",
        "ef1.portfolio_performance(verbose=True)"
      ],
      "execution_count": 152,
      "outputs": [
        {
          "output_type": "stream",
          "text": [
            "OrderedDict([('VIG', 1.0), ('NOBL', 0.0), ('SDY', 0.0), ('SCHD', 0.0), ('IDV', 0.0), ('DGRO', 0.0), ('DON', 0.0), ('FVD', 0.0), ('SPHD', 0.0)])\n",
            "Expected annual return: 12.8%\n",
            "Annual volatility: 17.9%\n",
            "Sharpe Ratio: 0.60\n"
          ],
          "name": "stdout"
        },
        {
          "output_type": "execute_result",
          "data": {
            "text/plain": [
              "(0.12775889190343623, 0.1791673203123782, 0.6014427838489665)"
            ]
          },
          "metadata": {
            "tags": []
          },
          "execution_count": 152
        }
      ]
    },
    {
      "cell_type": "code",
      "metadata": {
        "id": "eWNXQgoSRfBG",
        "colab_type": "code",
        "colab": {
          "base_uri": "https://localhost:8080/",
          "height": 204
        },
        "outputId": "1cef4445-1cba-413c-c31c-dc0a9cd78f0f"
      },
      "source": [
        "latest_prices1 = get_latest_prices(etf_data)\n",
        "\n",
        "latest_prices1"
      ],
      "execution_count": 155,
      "outputs": [
        {
          "output_type": "execute_result",
          "data": {
            "text/plain": [
              "Symbols\n",
              "VIG     125.559998\n",
              "NOBL     71.540001\n",
              "SDY      94.889999\n",
              "SCHD     55.439999\n",
              "IDV      26.110001\n",
              "DGRO     39.830002\n",
              "DON      29.900000\n",
              "FVD      31.910000\n",
              "SPHD     34.009998\n",
              "Name: 2020-08-06 00:00:00, dtype: float64"
            ]
          },
          "metadata": {
            "tags": []
          },
          "execution_count": 155
        }
      ]
    },
    {
      "cell_type": "code",
      "metadata": {
        "id": "e5C5Ld2ZUfQ7",
        "colab_type": "code",
        "colab": {}
      },
      "source": [
        "da1 = DiscreteAllocation(weights, latest_prices, total_portfolio_value = 10000)"
      ],
      "execution_count": 156,
      "outputs": []
    },
    {
      "cell_type": "code",
      "metadata": {
        "id": "FB5goQH0TVUD",
        "colab_type": "code",
        "colab": {
          "base_uri": "https://localhost:8080/",
          "height": 341
        },
        "outputId": "e0f9d05f-ad12-4e66-f57e-fb399f876764"
      },
      "source": [
        "allocation, leftover = da1.lp_portfolio()\n",
        "print('Discrete allocation: ', allocation)\n",
        "print('Funds remaining: ${:.2f} '.format(leftover))"
      ],
      "execution_count": 157,
      "outputs": [
        {
          "output_type": "error",
          "ename": "ValueError",
          "evalue": "ignored",
          "traceback": [
            "\u001b[0;31m---------------------------------------------------------------------------\u001b[0m",
            "\u001b[0;31mValueError\u001b[0m                                Traceback (most recent call last)",
            "\u001b[0;32m<ipython-input-157-2885b11a2a37>\u001b[0m in \u001b[0;36m<module>\u001b[0;34m()\u001b[0m\n\u001b[0;32m----> 1\u001b[0;31m \u001b[0mallocation\u001b[0m\u001b[0;34m,\u001b[0m \u001b[0mleftover\u001b[0m \u001b[0;34m=\u001b[0m \u001b[0mda1\u001b[0m\u001b[0;34m.\u001b[0m\u001b[0mlp_portfolio\u001b[0m\u001b[0;34m(\u001b[0m\u001b[0;34m)\u001b[0m\u001b[0;34m\u001b[0m\u001b[0;34m\u001b[0m\u001b[0m\n\u001b[0m\u001b[1;32m      2\u001b[0m \u001b[0mprint\u001b[0m\u001b[0;34m(\u001b[0m\u001b[0;34m'Discrete allocation: '\u001b[0m\u001b[0;34m,\u001b[0m \u001b[0mallocation\u001b[0m\u001b[0;34m)\u001b[0m\u001b[0;34m\u001b[0m\u001b[0;34m\u001b[0m\u001b[0m\n\u001b[1;32m      3\u001b[0m \u001b[0mprint\u001b[0m\u001b[0;34m(\u001b[0m\u001b[0;34m'Funds remaining: ${:.2f} '\u001b[0m\u001b[0;34m.\u001b[0m\u001b[0mformat\u001b[0m\u001b[0;34m(\u001b[0m\u001b[0mleftover\u001b[0m\u001b[0;34m)\u001b[0m\u001b[0;34m)\u001b[0m\u001b[0;34m\u001b[0m\u001b[0;34m\u001b[0m\u001b[0m\n",
            "\u001b[0;32m/usr/local/lib/python3.6/dist-packages/pypfopt/discrete_allocation.py\u001b[0m in \u001b[0;36mlp_portfolio\u001b[0;34m(self, verbose)\u001b[0m\n\u001b[1;32m    301\u001b[0m \u001b[0;34m\u001b[0m\u001b[0m\n\u001b[1;32m    302\u001b[0m         \u001b[0;31m# Objective function is remaining dollars + sum of absolute deviations from ideality.\u001b[0m\u001b[0;34m\u001b[0m\u001b[0;34m\u001b[0m\u001b[0;34m\u001b[0m\u001b[0m\n\u001b[0;32m--> 303\u001b[0;31m         \u001b[0mobjective\u001b[0m \u001b[0;34m=\u001b[0m \u001b[0mr\u001b[0m \u001b[0;34m+\u001b[0m \u001b[0mcp\u001b[0m\u001b[0;34m.\u001b[0m\u001b[0mnorm\u001b[0m\u001b[0;34m(\u001b[0m\u001b[0mw\u001b[0m \u001b[0;34m*\u001b[0m \u001b[0mself\u001b[0m\u001b[0;34m.\u001b[0m\u001b[0mtotal_portfolio_value\u001b[0m \u001b[0;34m-\u001b[0m \u001b[0mcp\u001b[0m\u001b[0;34m.\u001b[0m\u001b[0mmultiply\u001b[0m\u001b[0;34m(\u001b[0m\u001b[0mx\u001b[0m\u001b[0;34m,\u001b[0m \u001b[0mp\u001b[0m\u001b[0;34m)\u001b[0m\u001b[0;34m,\u001b[0m \u001b[0;36m1\u001b[0m\u001b[0;34m)\u001b[0m\u001b[0;34m\u001b[0m\u001b[0;34m\u001b[0m\u001b[0m\n\u001b[0m\u001b[1;32m    304\u001b[0m         \u001b[0mconstraints\u001b[0m \u001b[0;34m=\u001b[0m \u001b[0;34m[\u001b[0m\u001b[0mr\u001b[0m \u001b[0;34m+\u001b[0m \u001b[0mp\u001b[0m\u001b[0;34m.\u001b[0m\u001b[0mT\u001b[0m \u001b[0;34m*\u001b[0m \u001b[0mx\u001b[0m \u001b[0;34m==\u001b[0m \u001b[0mself\u001b[0m\u001b[0;34m.\u001b[0m\u001b[0mtotal_portfolio_value\u001b[0m\u001b[0;34m,\u001b[0m \u001b[0mx\u001b[0m \u001b[0;34m>=\u001b[0m \u001b[0;36m0\u001b[0m\u001b[0;34m,\u001b[0m \u001b[0mr\u001b[0m \u001b[0;34m>=\u001b[0m \u001b[0;36m0\u001b[0m\u001b[0;34m]\u001b[0m\u001b[0;34m\u001b[0m\u001b[0;34m\u001b[0m\u001b[0m\n\u001b[1;32m    305\u001b[0m \u001b[0;34m\u001b[0m\u001b[0m\n",
            "\u001b[0;32m/usr/local/lib/python3.6/dist-packages/cvxpy/expressions/expression.py\u001b[0m in \u001b[0;36mcast_op\u001b[0;34m(self, other)\u001b[0m\n\u001b[1;32m     44\u001b[0m         \"\"\"\n\u001b[1;32m     45\u001b[0m         \u001b[0mother\u001b[0m \u001b[0;34m=\u001b[0m \u001b[0mself\u001b[0m\u001b[0;34m.\u001b[0m\u001b[0mcast_to_const\u001b[0m\u001b[0;34m(\u001b[0m\u001b[0mother\u001b[0m\u001b[0;34m)\u001b[0m\u001b[0;34m\u001b[0m\u001b[0;34m\u001b[0m\u001b[0m\n\u001b[0;32m---> 46\u001b[0;31m         \u001b[0;32mreturn\u001b[0m \u001b[0mbinary_op\u001b[0m\u001b[0;34m(\u001b[0m\u001b[0mself\u001b[0m\u001b[0;34m,\u001b[0m \u001b[0mother\u001b[0m\u001b[0;34m)\u001b[0m\u001b[0;34m\u001b[0m\u001b[0;34m\u001b[0m\u001b[0m\n\u001b[0m\u001b[1;32m     47\u001b[0m     \u001b[0;32mreturn\u001b[0m \u001b[0mcast_op\u001b[0m\u001b[0;34m\u001b[0m\u001b[0;34m\u001b[0m\u001b[0m\n\u001b[1;32m     48\u001b[0m \u001b[0;34m\u001b[0m\u001b[0m\n",
            "\u001b[0;32m/usr/local/lib/python3.6/dist-packages/cvxpy/expressions/expression.py\u001b[0m in \u001b[0;36m__rsub__\u001b[0;34m(self, other)\u001b[0m\n\u001b[1;32m    468\u001b[0m         \"\"\"Expression : The difference of two expressions.\n\u001b[1;32m    469\u001b[0m         \"\"\"\n\u001b[0;32m--> 470\u001b[0;31m         \u001b[0;32mreturn\u001b[0m \u001b[0mother\u001b[0m \u001b[0;34m-\u001b[0m \u001b[0mself\u001b[0m\u001b[0;34m\u001b[0m\u001b[0;34m\u001b[0m\u001b[0m\n\u001b[0m\u001b[1;32m    471\u001b[0m \u001b[0;34m\u001b[0m\u001b[0m\n\u001b[1;32m    472\u001b[0m     \u001b[0;34m@\u001b[0m\u001b[0m_cast_other\u001b[0m\u001b[0;34m\u001b[0m\u001b[0;34m\u001b[0m\u001b[0m\n",
            "\u001b[0;32m/usr/local/lib/python3.6/dist-packages/cvxpy/expressions/expression.py\u001b[0m in \u001b[0;36mcast_op\u001b[0;34m(self, other)\u001b[0m\n\u001b[1;32m     44\u001b[0m         \"\"\"\n\u001b[1;32m     45\u001b[0m         \u001b[0mother\u001b[0m \u001b[0;34m=\u001b[0m \u001b[0mself\u001b[0m\u001b[0;34m.\u001b[0m\u001b[0mcast_to_const\u001b[0m\u001b[0;34m(\u001b[0m\u001b[0mother\u001b[0m\u001b[0;34m)\u001b[0m\u001b[0;34m\u001b[0m\u001b[0;34m\u001b[0m\u001b[0m\n\u001b[0;32m---> 46\u001b[0;31m         \u001b[0;32mreturn\u001b[0m \u001b[0mbinary_op\u001b[0m\u001b[0;34m(\u001b[0m\u001b[0mself\u001b[0m\u001b[0;34m,\u001b[0m \u001b[0mother\u001b[0m\u001b[0;34m)\u001b[0m\u001b[0;34m\u001b[0m\u001b[0;34m\u001b[0m\u001b[0m\n\u001b[0m\u001b[1;32m     47\u001b[0m     \u001b[0;32mreturn\u001b[0m \u001b[0mcast_op\u001b[0m\u001b[0;34m\u001b[0m\u001b[0;34m\u001b[0m\u001b[0m\n\u001b[1;32m     48\u001b[0m \u001b[0;34m\u001b[0m\u001b[0m\n",
            "\u001b[0;32m/usr/local/lib/python3.6/dist-packages/cvxpy/expressions/expression.py\u001b[0m in \u001b[0;36m__sub__\u001b[0;34m(self, other)\u001b[0m\n\u001b[1;32m    462\u001b[0m         \"\"\"Expression : The difference of two expressions.\n\u001b[1;32m    463\u001b[0m         \"\"\"\n\u001b[0;32m--> 464\u001b[0;31m         \u001b[0;32mreturn\u001b[0m \u001b[0mself\u001b[0m \u001b[0;34m+\u001b[0m \u001b[0;34m-\u001b[0m\u001b[0mother\u001b[0m\u001b[0;34m\u001b[0m\u001b[0;34m\u001b[0m\u001b[0m\n\u001b[0m\u001b[1;32m    465\u001b[0m \u001b[0;34m\u001b[0m\u001b[0m\n\u001b[1;32m    466\u001b[0m     \u001b[0;34m@\u001b[0m\u001b[0m_cast_other\u001b[0m\u001b[0;34m\u001b[0m\u001b[0;34m\u001b[0m\u001b[0m\n",
            "\u001b[0;32m/usr/local/lib/python3.6/dist-packages/cvxpy/expressions/expression.py\u001b[0m in \u001b[0;36mcast_op\u001b[0;34m(self, other)\u001b[0m\n\u001b[1;32m     44\u001b[0m         \"\"\"\n\u001b[1;32m     45\u001b[0m         \u001b[0mother\u001b[0m \u001b[0;34m=\u001b[0m \u001b[0mself\u001b[0m\u001b[0;34m.\u001b[0m\u001b[0mcast_to_const\u001b[0m\u001b[0;34m(\u001b[0m\u001b[0mother\u001b[0m\u001b[0;34m)\u001b[0m\u001b[0;34m\u001b[0m\u001b[0;34m\u001b[0m\u001b[0m\n\u001b[0;32m---> 46\u001b[0;31m         \u001b[0;32mreturn\u001b[0m \u001b[0mbinary_op\u001b[0m\u001b[0;34m(\u001b[0m\u001b[0mself\u001b[0m\u001b[0;34m,\u001b[0m \u001b[0mother\u001b[0m\u001b[0;34m)\u001b[0m\u001b[0;34m\u001b[0m\u001b[0;34m\u001b[0m\u001b[0m\n\u001b[0m\u001b[1;32m     47\u001b[0m     \u001b[0;32mreturn\u001b[0m \u001b[0mcast_op\u001b[0m\u001b[0;34m\u001b[0m\u001b[0;34m\u001b[0m\u001b[0m\n\u001b[1;32m     48\u001b[0m \u001b[0;34m\u001b[0m\u001b[0m\n",
            "\u001b[0;32m/usr/local/lib/python3.6/dist-packages/cvxpy/expressions/expression.py\u001b[0m in \u001b[0;36m__add__\u001b[0;34m(self, other)\u001b[0m\n\u001b[1;32m    450\u001b[0m         \"\"\"Expression : Sum two expressions.\n\u001b[1;32m    451\u001b[0m         \"\"\"\n\u001b[0;32m--> 452\u001b[0;31m         \u001b[0;32mreturn\u001b[0m \u001b[0mcvxtypes\u001b[0m\u001b[0;34m.\u001b[0m\u001b[0madd_expr\u001b[0m\u001b[0;34m(\u001b[0m\u001b[0;34m)\u001b[0m\u001b[0;34m(\u001b[0m\u001b[0;34m[\u001b[0m\u001b[0mself\u001b[0m\u001b[0;34m,\u001b[0m \u001b[0mother\u001b[0m\u001b[0;34m]\u001b[0m\u001b[0;34m)\u001b[0m\u001b[0;34m\u001b[0m\u001b[0;34m\u001b[0m\u001b[0m\n\u001b[0m\u001b[1;32m    453\u001b[0m \u001b[0;34m\u001b[0m\u001b[0m\n\u001b[1;32m    454\u001b[0m     \u001b[0;34m@\u001b[0m\u001b[0m_cast_other\u001b[0m\u001b[0;34m\u001b[0m\u001b[0;34m\u001b[0m\u001b[0m\n",
            "\u001b[0;32m/usr/local/lib/python3.6/dist-packages/cvxpy/atoms/affine/add_expr.py\u001b[0m in \u001b[0;36m__init__\u001b[0;34m(self, arg_groups)\u001b[0m\n\u001b[1;32m     31\u001b[0m         \u001b[0;31m# For efficiency group args as sums.\u001b[0m\u001b[0;34m\u001b[0m\u001b[0;34m\u001b[0m\u001b[0;34m\u001b[0m\u001b[0m\n\u001b[1;32m     32\u001b[0m         \u001b[0mself\u001b[0m\u001b[0;34m.\u001b[0m\u001b[0m_arg_groups\u001b[0m \u001b[0;34m=\u001b[0m \u001b[0marg_groups\u001b[0m\u001b[0;34m\u001b[0m\u001b[0;34m\u001b[0m\u001b[0m\n\u001b[0;32m---> 33\u001b[0;31m         \u001b[0msuper\u001b[0m\u001b[0;34m(\u001b[0m\u001b[0mAddExpression\u001b[0m\u001b[0;34m,\u001b[0m \u001b[0mself\u001b[0m\u001b[0;34m)\u001b[0m\u001b[0;34m.\u001b[0m\u001b[0m__init__\u001b[0m\u001b[0;34m(\u001b[0m\u001b[0;34m*\u001b[0m\u001b[0marg_groups\u001b[0m\u001b[0;34m)\u001b[0m\u001b[0;34m\u001b[0m\u001b[0;34m\u001b[0m\u001b[0m\n\u001b[0m\u001b[1;32m     34\u001b[0m         \u001b[0mself\u001b[0m\u001b[0;34m.\u001b[0m\u001b[0margs\u001b[0m \u001b[0;34m=\u001b[0m \u001b[0;34m[\u001b[0m\u001b[0;34m]\u001b[0m\u001b[0;34m\u001b[0m\u001b[0;34m\u001b[0m\u001b[0m\n\u001b[1;32m     35\u001b[0m         \u001b[0;32mfor\u001b[0m \u001b[0mgroup\u001b[0m \u001b[0;32min\u001b[0m \u001b[0marg_groups\u001b[0m\u001b[0;34m:\u001b[0m\u001b[0;34m\u001b[0m\u001b[0;34m\u001b[0m\u001b[0m\n",
            "\u001b[0;32m/usr/local/lib/python3.6/dist-packages/cvxpy/atoms/atom.py\u001b[0m in \u001b[0;36m__init__\u001b[0;34m(self, *args)\u001b[0m\n\u001b[1;32m     43\u001b[0m         \u001b[0mself\u001b[0m\u001b[0;34m.\u001b[0m\u001b[0margs\u001b[0m \u001b[0;34m=\u001b[0m \u001b[0;34m[\u001b[0m\u001b[0mAtom\u001b[0m\u001b[0;34m.\u001b[0m\u001b[0mcast_to_const\u001b[0m\u001b[0;34m(\u001b[0m\u001b[0marg\u001b[0m\u001b[0;34m)\u001b[0m \u001b[0;32mfor\u001b[0m \u001b[0marg\u001b[0m \u001b[0;32min\u001b[0m \u001b[0margs\u001b[0m\u001b[0;34m]\u001b[0m\u001b[0;34m\u001b[0m\u001b[0;34m\u001b[0m\u001b[0m\n\u001b[1;32m     44\u001b[0m         \u001b[0mself\u001b[0m\u001b[0;34m.\u001b[0m\u001b[0mvalidate_arguments\u001b[0m\u001b[0;34m(\u001b[0m\u001b[0;34m)\u001b[0m\u001b[0;34m\u001b[0m\u001b[0;34m\u001b[0m\u001b[0m\n\u001b[0;32m---> 45\u001b[0;31m         \u001b[0mself\u001b[0m\u001b[0;34m.\u001b[0m\u001b[0m_shape\u001b[0m \u001b[0;34m=\u001b[0m \u001b[0mself\u001b[0m\u001b[0;34m.\u001b[0m\u001b[0mshape_from_args\u001b[0m\u001b[0;34m(\u001b[0m\u001b[0;34m)\u001b[0m\u001b[0;34m\u001b[0m\u001b[0;34m\u001b[0m\u001b[0m\n\u001b[0m\u001b[1;32m     46\u001b[0m         \u001b[0;32mif\u001b[0m \u001b[0mlen\u001b[0m\u001b[0;34m(\u001b[0m\u001b[0mself\u001b[0m\u001b[0;34m.\u001b[0m\u001b[0m_shape\u001b[0m\u001b[0;34m)\u001b[0m \u001b[0;34m>\u001b[0m \u001b[0;36m2\u001b[0m\u001b[0;34m:\u001b[0m\u001b[0;34m\u001b[0m\u001b[0;34m\u001b[0m\u001b[0m\n\u001b[1;32m     47\u001b[0m             \u001b[0;32mraise\u001b[0m \u001b[0mValueError\u001b[0m\u001b[0;34m(\u001b[0m\u001b[0;34m\"Atoms must be at most 2D.\"\u001b[0m\u001b[0;34m)\u001b[0m\u001b[0;34m\u001b[0m\u001b[0;34m\u001b[0m\u001b[0m\n",
            "\u001b[0;32m/usr/local/lib/python3.6/dist-packages/cvxpy/atoms/affine/add_expr.py\u001b[0m in \u001b[0;36mshape_from_args\u001b[0;34m(self)\u001b[0m\n\u001b[1;32m     39\u001b[0m         \"\"\"Returns the (row, col) shape of the expression.\n\u001b[1;32m     40\u001b[0m         \"\"\"\n\u001b[0;32m---> 41\u001b[0;31m         \u001b[0;32mreturn\u001b[0m \u001b[0mu\u001b[0m\u001b[0;34m.\u001b[0m\u001b[0mshape\u001b[0m\u001b[0;34m.\u001b[0m\u001b[0msum_shapes\u001b[0m\u001b[0;34m(\u001b[0m\u001b[0;34m[\u001b[0m\u001b[0marg\u001b[0m\u001b[0;34m.\u001b[0m\u001b[0mshape\u001b[0m \u001b[0;32mfor\u001b[0m \u001b[0marg\u001b[0m \u001b[0;32min\u001b[0m \u001b[0mself\u001b[0m\u001b[0;34m.\u001b[0m\u001b[0margs\u001b[0m\u001b[0;34m]\u001b[0m\u001b[0;34m)\u001b[0m\u001b[0;34m\u001b[0m\u001b[0;34m\u001b[0m\u001b[0m\n\u001b[0m\u001b[1;32m     42\u001b[0m \u001b[0;34m\u001b[0m\u001b[0m\n\u001b[1;32m     43\u001b[0m     \u001b[0;32mdef\u001b[0m \u001b[0mexpand_args\u001b[0m\u001b[0;34m(\u001b[0m\u001b[0mself\u001b[0m\u001b[0;34m,\u001b[0m \u001b[0mexpr\u001b[0m\u001b[0;34m)\u001b[0m\u001b[0;34m:\u001b[0m\u001b[0;34m\u001b[0m\u001b[0;34m\u001b[0m\u001b[0m\n",
            "\u001b[0;32m/usr/local/lib/python3.6/dist-packages/cvxpy/utilities/shape.py\u001b[0m in \u001b[0;36msum_shapes\u001b[0;34m(shapes)\u001b[0m\n\u001b[1;32m     47\u001b[0m             raise ValueError(\n\u001b[1;32m     48\u001b[0m                 \u001b[0;34m\"Cannot broadcast dimensions \"\u001b[0m \u001b[0;34m+\u001b[0m\u001b[0;34m\u001b[0m\u001b[0;34m\u001b[0m\u001b[0m\n\u001b[0;32m---> 49\u001b[0;31m                 len(shapes)*\" %s\" % tuple(shapes))\n\u001b[0m\u001b[1;32m     50\u001b[0m \u001b[0;34m\u001b[0m\u001b[0m\n\u001b[1;32m     51\u001b[0m         \u001b[0mlonger\u001b[0m \u001b[0;34m=\u001b[0m \u001b[0mshape\u001b[0m \u001b[0;32mif\u001b[0m \u001b[0mlen\u001b[0m\u001b[0;34m(\u001b[0m\u001b[0mshape\u001b[0m\u001b[0;34m)\u001b[0m \u001b[0;34m>=\u001b[0m \u001b[0mlen\u001b[0m\u001b[0;34m(\u001b[0m\u001b[0mt\u001b[0m\u001b[0;34m)\u001b[0m \u001b[0;32melse\u001b[0m \u001b[0mt\u001b[0m\u001b[0;34m\u001b[0m\u001b[0;34m\u001b[0m\u001b[0m\n",
            "\u001b[0;31mValueError\u001b[0m: Cannot broadcast dimensions  (8,) (9,)"
          ]
        }
      ]
    }
  ]
}